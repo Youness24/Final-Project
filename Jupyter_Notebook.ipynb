{
 "cells": [
  {
   "cell_type": "markdown",
   "metadata": {},
   "source": [
    "<center>\n",
    "    <img src=\"https://cf-courses-data.s3.us.cloud-object-storage.appdomain.cloud/IBMDeveloperSkillsNetwork-DS0105EN-SkillsNetwork/labs/Module2/images/SN_web_lightmode.png\" width=\"300\" alt=\"cognitiveclass.ai logo\">\n",
    "</center>\n"
   ]
  },
  {
   "cell_type": "markdown",
   "metadata": {},
   "source": [
    "## Assignment Topic:\n",
    "\n",
    "You will be provided with an empty Jupyterlite notebook which you will launch in the course, to complete this assignment. You will need to include a combination of markdown and code cells. You will likely need to use the Markdown cheat sheet to help you determine the appropriate syntax for your markdown.  "
   ]
  },
  {
   "cell_type": "markdown",
   "metadata": {},
   "source": [
    "There are a total of 25 points possible for this final project.  \n",
    "Your grade will be based on the following Exercises:  \n",
    "Exercise 2 - Create a markdown cell with the title of the notebook. (1 pt)  \n",
    "Exercise 3 - Create a markdown cell for an introduction. (1 pt)  \n",
    "Exercise 4 - Create a markdown cell to list data science languages. (3 pts)    \n",
    "Exercise 5 - Create a markdown cell to list data science libraries. (3 pts)    \n",
    "Exercise 6 - Create a markdown cell with a table of Data Science tools. (3 pts)  \n",
    "Exercise 7 - Create a markdown cell introducing arithmetic expression examples. (1 pt)   \n",
    "Exercise 8 - Create a code cell to multiply and add numbers. (2 pts)  \n",
    "Exercise 9 - Create a code cell to convert minutes to hours. (2 pts)  \n",
    "Exercise 10 -Insert a markdown cell to list Objectives. (3 pts)   \n",
    "Exercise 11 - Create a markdown cell to indicate the Author’s name. (2 pts)  \n",
    "Exercise 12 - Share your notebook through GitHub (3 pts)  \n",
    "Exercise 13 - Take a screenshot of the first page of the notebook. (1 pt)  \n",
    "The main grading criteria will be:  \n",
    "Is the notebook publicly viewable?  \n",
    "Are there, or do there appear to be, at least 8 Markdown cells and 2 code cells?   \n",
    "Are the criteria for each cell fulfilled, as described in the \"Guidelines for Submission\"?   \n",
    "You will not be judged on:  \n",
    "Your English language, including spelling or grammatical mistakes.   "
   ]
  },
  {
   "cell_type": "markdown",
   "metadata": {},
   "source": [
    "### Exercise 2"
   ]
  },
  {
   "cell_type": "markdown",
   "metadata": {},
   "source": [
    "Jupyter_Notebook"
   ]
  },
  {
   "cell_type": "markdown",
   "metadata": {},
   "source": [
    "### Exercise 3"
   ]
  },
  {
   "cell_type": "markdown",
   "metadata": {},
   "source": [
    "In this notebook, I provide a summary of the tools in Data Science.\n",
    "\n",
    "#### Our goals include:  \n",
    "- Identifying the prevalent programming languages utilized by Data Scientists.  \n",
    "- Outlining the frequently employed libraries in Data Science.  \n",
    "- Offering insights on various tools relevant to Data Science.  "
   ]
  },
  {
   "cell_type": "markdown",
   "metadata": {},
   "source": [
    "### Exercise 4"
   ]
  },
  {
   "cell_type": "markdown",
   "metadata": {},
   "source": [
    "Popular programming languages among Data Scientists include:\n",
    "\n",
    "- Python  \n",
    "- R   \n",
    "- SQL  \n",
    "- Java  \n",
    "- Julia  \n",
    "- Scala  \n",
    "- C/C++  \n",
    "- JavaScript  "
   ]
  },
  {
   "cell_type": "markdown",
   "metadata": {},
   "source": [
    "### Exercise 5"
   ]
  },
  {
   "cell_type": "markdown",
   "metadata": {},
   "source": [
    "Data Scientists frequently utilize a range of libraries, such as:\n",
    "\n",
    "- TensorFlow  \n",
    "- NumPy  \n",
    "- Pandas  \n",
    "- SciPy  \n",
    "- Matplotlib  \n",
    "- Keras  \n",
    "- Scikit-Learn  \n",
    "- PyTorch  \n",
    "- BeautifulSoup  \n",
    "- LightGBM  \n",
    "- ELI5  \n",
    "- Theano  \n",
    "- PyBrain  \n",
    "- Caffe2  \n",
    "- Chainer  \n",
    "- XGBoost  \n",
    "- Plotly  \n",
    "- Seaborn  \n",
    "- Gensim  \n",
    "- NLTK  "
   ]
  },
  {
   "cell_type": "markdown",
   "metadata": {},
   "source": [
    "### Exercise 6"
   ]
  },
  {
   "cell_type": "markdown",
   "metadata": {},
   "source": [
    "| Type of Tool | Tool Name |\n",
    "| ------------ | --------- |\n",
    "| Programming Language | Python |\n",
    "| Programming Language | R |\n",
    "| Programming Language | SQL |\n",
    "| Library | TensorFlow |\n",
    "| Library | NumPy |\n",
    "| Library | Pandas |\n",
    "| Library | SciPy |\n",
    "| Library | Matplotlib |\n",
    "| Library | Keras |\n",
    "| Library | Scikit-Learn |\n",
    "| Library | PyTorch |\n",
    "| Data Visualization | Plotly |\n",
    "| Data Visualization | Seaborn |\n",
    "| Machine Learning Framework | LightGBM |\n",
    "| Machine Learning Framework | XGBoost |\n",
    "| Text Processing | NLTK |\n",
    "| Text Processing | Gensim |\n",
    "| Deep Learning Framework | Caffe2 |\n",
    "| Deep Learning Framework | Chainer |\n",
    "| IDE/Code Editor | Jupyter Notebook |"
   ]
  },
  {
   "cell_type": "markdown",
   "metadata": {},
   "source": [
    "### Exercise 7"
   ]
  },
  {
   "cell_type": "markdown",
   "metadata": {},
   "source": [
    "# Arithmetic Expression Examples\n",
    "\n",
    "In this section, we will explore some basic arithmetic expressions and how they are represented. Arithmetic expressions are used to perform mathematical operations and are fundamental in many programming and mathematical applications.\n",
    "\n",
    "1. **Addition**\n",
    "   - Example: `5 + 3`\n",
    "   - This expression adds 5 and 3, resulting in 8.\n",
    "\n",
    "2. **Subtraction**\n",
    "   - Example: `10 - 4`\n",
    "   - This expression subtracts 4 from 10, resulting in 6.\n",
    "\n",
    "3. **Multiplication**\n",
    "   - Example: `7 * 2`\n",
    "   - This expression multiplies 7 by 2, resulting in 14.\n",
    "\n",
    "4. **Division**\n",
    "   - Example: `20 / 5`\n",
    "   - This expression divides 20 by 5, resulting in 4.\n",
    "\n",
    "5. **Exponentiation**\n",
    "   - Example: `2 ** 3`\n",
    "   - This expression raises 2 to the power of 3, resulting in 8.\n",
    "\n",
    "6. **Modulus**\n",
    "   - Example: `10 % 3`\n",
    "   - This expression finds the remainder of dividing 10 by 3, which is 1."
   ]
  },
  {
   "cell_type": "markdown",
   "metadata": {},
   "source": [
    "### Exercise 8"
   ]
  },
  {
   "cell_type": "code",
   "execution_count": 7,
   "metadata": {},
   "outputs": [
    {
     "data": {
      "text/plain": [
       "19"
      ]
     },
     "execution_count": 7,
     "metadata": {},
     "output_type": "execute_result"
    }
   ],
   "source": [
    "# Multiplying and adding numbers\n",
    "\n",
    "# Example: Multiply 4 by 3, then add 7\n",
    "result = (4 * 3) + 7\n",
    "result"
   ]
  },
  {
   "cell_type": "markdown",
   "metadata": {},
   "source": [
    "### Exercise 9"
   ]
  },
  {
   "cell_type": "code",
   "execution_count": 9,
   "metadata": {},
   "outputs": [
    {
     "data": {
      "text/plain": [
       "2.0"
      ]
     },
     "execution_count": 9,
     "metadata": {},
     "output_type": "execute_result"
    }
   ],
   "source": [
    "# Convert minutes to hours\n",
    "\n",
    "minutes = 120  # example minutes\n",
    "hours = minutes / 60\n",
    "hours"
   ]
  },
  {
   "cell_type": "markdown",
   "metadata": {},
   "source": [
    "### Exercise 10"
   ]
  },
  {
   "cell_type": "markdown",
   "metadata": {},
   "source": [
    "Learning Objectives:  \n",
    "- Create a Jupyter Notebook with markdown and code cells  \n",
    "- List examples of languages, libraries and tools used in Data Science  \n",
    "- Share your Jupyter Notebook publicly on GitHub  \n",
    "- Evaluate notebooks submitted by your peers using the provided rubric  \n",
    "- Demonstrate proficiency in Data Science toolkit knowledge  "
   ]
  },
  {
   "cell_type": "markdown",
   "metadata": {},
   "source": [
    "### Exercise 11"
   ]
  },
  {
   "cell_type": "markdown",
   "metadata": {},
   "source": [
    "#### Author: Youness Alaoui Mhamedi"
   ]
  }
 ],
 "metadata": {
  "kernelspec": {
   "display_name": "Python 3 (ipykernel)",
   "language": "python",
   "name": "python3"
  },
  "language_info": {
   "codemirror_mode": {
    "name": "ipython",
    "version": 3
   },
   "file_extension": ".py",
   "mimetype": "text/x-python",
   "name": "python",
   "nbconvert_exporter": "python",
   "pygments_lexer": "ipython3",
   "version": "3.12.2"
  }
 },
 "nbformat": 4,
 "nbformat_minor": 4
}
